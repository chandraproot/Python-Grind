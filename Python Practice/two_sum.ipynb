{
 "cells": [
  {
   "cell_type": "code",
   "execution_count": 22,
   "metadata": {},
   "outputs": [
    {
     "name": "stdout",
     "output_type": "stream",
     "text": [
      "[0, 1]\n"
     ]
    }
   ],
   "source": [
    "class Solution:\n",
    "    def twoSum(self, nums, target):\n",
    "        preVMap = {}\n",
    "        for i, n in enumerate(nums):\n",
    "            diff = target - n\n",
    "            if diff in preVMap:\n",
    "                return [preVMap[diff], i]\n",
    "            preVMap[n] = i\n",
    "        print(preVMap)\n",
    "        return\n",
    "# my_list = [2,7,11,15]\n",
    "my_list = [3,3]\n",
    "# my_list = [3,2,4]\n",
    "n = 6\n",
    "obj = Solution()\n",
    "va = obj.twoSum(my_list, n)\n",
    "print(va)\n",
    "\n",
    "            "
   ]
  },
  {
   "cell_type": "code",
   "execution_count": 21,
   "metadata": {},
   "outputs": [
    {
     "name": "stdout",
     "output_type": "stream",
     "text": [
      "[0, 2]\n"
     ]
    }
   ],
   "source": [
    "nums = [8,7,11,15,2]\n",
    "dic = {}\n",
    "for i, n in enumerate(nums):\n",
    "    dic[n] = i\n",
    "print([dic[8],2])\n",
    "# print([dic[15],2])\n",
    "\n"
   ]
  }
 ],
 "metadata": {
  "kernelspec": {
   "display_name": "Python 3",
   "language": "python",
   "name": "python3"
  },
  "language_info": {
   "codemirror_mode": {
    "name": "ipython",
    "version": 3
   },
   "file_extension": ".py",
   "mimetype": "text/x-python",
   "name": "python",
   "nbconvert_exporter": "python",
   "pygments_lexer": "ipython3",
   "version": "3.10.11"
  }
 },
 "nbformat": 4,
 "nbformat_minor": 2
}
